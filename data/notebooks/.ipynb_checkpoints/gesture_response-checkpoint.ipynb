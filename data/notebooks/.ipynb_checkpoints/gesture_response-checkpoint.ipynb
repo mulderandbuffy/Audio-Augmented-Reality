{
 "cells": [
  {
   "cell_type": "code",
   "execution_count": 13,
   "id": "71792015",
   "metadata": {},
   "outputs": [],
   "source": [
    "from matplotlib import pyplot as plt\n",
    "import seaborn as sns\n",
    "import pandas\n",
    "import numpy as np\n",
    "\n",
    "proc_dir = \"../processed/\"\n"
   ]
  },
  {
   "cell_type": "code",
   "execution_count": 3,
   "id": "94057b34",
   "metadata": {},
   "outputs": [],
   "source": [
    "file = pandas.read_csv(proc_dir + 'gesture_response_by_headset.csv')"
   ]
  },
  {
   "cell_type": "code",
   "execution_count": 4,
   "id": "1a0476ab",
   "metadata": {},
   "outputs": [
    {
     "name": "stdout",
     "output_type": "stream",
     "text": [
      "   headset  gesture_response  forecast_response\n",
      "0    nc700                 4                  2\n",
      "1    nc700                 5                  5\n",
      "2    nc700                 4                  5\n",
      "3    nc700                 4                  5\n",
      "4    nc700                 5                  4\n",
      "5    nc700                 5                  5\n",
      "6    nc700                 2                  4\n",
      "7    nc700                 3                  4\n",
      "8    nc700                 3                  5\n",
      "9    nc700                 3                  2\n",
      "10   nc700                 4                  4\n",
      "11  frames                 5                  1\n",
      "12  frames                 5                  4\n",
      "13  frames                 5                  3\n",
      "14  frames                 4                  5\n",
      "15  frames                 5                  4\n",
      "16  frames                 5                  4\n",
      "17  frames                 4                  2\n",
      "18  frames                 4                  2\n",
      "19  frames                 4                  5\n",
      "20  frames                 4                  4\n",
      "21  frames                 4                  5\n"
     ]
    }
   ],
   "source": [
    "print(file)"
   ]
  },
  {
   "cell_type": "code",
   "execution_count": 5,
   "id": "df2cee61",
   "metadata": {},
   "outputs": [],
   "source": [
    "headphone_entries = file[file['headset'] == 'nc700']\n",
    "frame_entries = file[file['headset'] == 'frames']"
   ]
  },
  {
   "cell_type": "code",
   "execution_count": 11,
   "id": "b54fc261",
   "metadata": {},
   "outputs": [
    {
     "name": "stdout",
     "output_type": "stream",
     "text": [
      "gesture_response     3.818182\n",
      "forecast_response    4.090909\n",
      "dtype: float64\n",
      "gesture_response     0.981650\n",
      "forecast_response    1.136182\n",
      "dtype: float64\n"
     ]
    },
    {
     "name": "stderr",
     "output_type": "stream",
     "text": [
      "C:\\Users\\tech\\AppData\\Local\\Temp\\ipykernel_11276\\1275675427.py:1: FutureWarning: Dropping of nuisance columns in DataFrame reductions (with 'numeric_only=None') is deprecated; in a future version this will raise TypeError.  Select only valid columns before calling the reduction.\n",
      "  headphone_means = headphone_entries.mean()\n",
      "C:\\Users\\tech\\AppData\\Local\\Temp\\ipykernel_11276\\1275675427.py:2: FutureWarning: Dropping of nuisance columns in DataFrame reductions (with 'numeric_only=None') is deprecated; in a future version this will raise TypeError.  Select only valid columns before calling the reduction.\n",
      "  headphone_stdvs = headphone_entries.std()\n"
     ]
    }
   ],
   "source": [
    "headphone_means = headphone_entries.mean()\n",
    "headphone_stdvs = headphone_entries.std()\n",
    "\n",
    "print(headphone_means)\n",
    "print(headphone_stdvs)"
   ]
  },
  {
   "cell_type": "code",
   "execution_count": 12,
   "id": "fae42a8a",
   "metadata": {},
   "outputs": [
    {
     "name": "stdout",
     "output_type": "stream",
     "text": [
      "gesture_response     4.454545\n",
      "forecast_response    3.545455\n",
      "dtype: float64\n",
      "gesture_response     0.522233\n",
      "forecast_response    1.368476\n",
      "dtype: float64\n"
     ]
    },
    {
     "name": "stderr",
     "output_type": "stream",
     "text": [
      "C:\\Users\\tech\\AppData\\Local\\Temp\\ipykernel_11276\\2284008237.py:1: FutureWarning: Dropping of nuisance columns in DataFrame reductions (with 'numeric_only=None') is deprecated; in a future version this will raise TypeError.  Select only valid columns before calling the reduction.\n",
      "  frame_means = frame_entries.mean()\n",
      "C:\\Users\\tech\\AppData\\Local\\Temp\\ipykernel_11276\\2284008237.py:2: FutureWarning: Dropping of nuisance columns in DataFrame reductions (with 'numeric_only=None') is deprecated; in a future version this will raise TypeError.  Select only valid columns before calling the reduction.\n",
      "  frame_stdvs = frame_entries.std()\n"
     ]
    }
   ],
   "source": [
    "frame_means = frame_entries.mean()\n",
    "frame_stdvs = frame_entries.std()\n",
    "\n",
    "print(frame_means)\n",
    "print(frame_stdvs)"
   ]
  },
  {
   "cell_type": "code",
   "execution_count": 19,
   "id": "ec61ac66",
   "metadata": {},
   "outputs": [
    {
     "name": "stdout",
     "output_type": "stream",
     "text": [
      "   headset  gesture_response  forecast_response\n",
      "0    nc700                 4                  2\n",
      "1    nc700                 5                  5\n",
      "2    nc700                 4                  5\n",
      "3    nc700                 4                  5\n",
      "4    nc700                 5                  4\n",
      "5    nc700                 5                  5\n",
      "6    nc700                 2                  4\n",
      "7    nc700                 3                  4\n",
      "8    nc700                 3                  5\n",
      "9    nc700                 3                  2\n",
      "10   nc700                 4                  4\n",
      "   headset  gesture_response  forecast_response\n",
      "11  frames                 5                  1\n",
      "12  frames                 5                  4\n",
      "13  frames                 5                  3\n",
      "14  frames                 4                  5\n",
      "15  frames                 5                  4\n",
      "16  frames                 5                  4\n",
      "17  frames                 4                  2\n",
      "18  frames                 4                  2\n",
      "19  frames                 4                  5\n",
      "20  frames                 4                  4\n",
      "21  frames                 4                  5\n"
     ]
    }
   ],
   "source": [
    "print(headphone_entries)\n",
    "print(frame_entries)"
   ]
  },
  {
   "cell_type": "code",
   "execution_count": 30,
   "id": "fd9260e9",
   "metadata": {},
   "outputs": [],
   "source": [
    "gesture_vals = pandas.DataFrame({'headphones': [headphone_means['gesture_response']],'frames': [frame_means['gesture_response']]})\n",
    "forecast_vals = pandas.DataFrame({'headphones': [headphone_means['forecast_response']],'frames': [frame_means['forecast_response']]})"
   ]
  },
  {
   "cell_type": "code",
   "execution_count": 33,
   "id": "587d6eda",
   "metadata": {},
   "outputs": [],
   "source": [
    "gesture_stdvs =  pandas.DataFrame({'headphones': [headphone_stdvs['gesture_response']],'frames': [frame_stdvs['gesture_response']]})\n",
    "forecast_stdvs = pandas.DataFrame({'headphones': [headphone_stdvs['forecast_response']],'frames': [frame_stdvs['forecast_response']]})"
   ]
  },
  {
   "cell_type": "code",
   "execution_count": 32,
   "id": "167adc92",
   "metadata": {
    "scrolled": true
   },
   "outputs": [
    {
     "name": "stdout",
     "output_type": "stream",
     "text": [
      "   headphones    frames\n",
      "0    3.818182  4.454545\n",
      "   headphones    frames\n",
      "0    4.090909  3.545455\n"
     ]
    }
   ],
   "source": [
    "print(gesture_vals)\n",
    "print(forecast_vals)"
   ]
  },
  {
   "cell_type": "code",
   "execution_count": 34,
   "id": "e6a0f34d",
   "metadata": {},
   "outputs": [
    {
     "name": "stdout",
     "output_type": "stream",
     "text": [
      "   headphones    frames\n",
      "0     0.98165  0.522233\n",
      "   headphones    frames\n",
      "0    1.136182  1.368476\n"
     ]
    }
   ],
   "source": [
    "print(gesture_stdvs)\n",
    "print(forecast_stdvs)"
   ]
  },
  {
   "cell_type": "code",
   "execution_count": 37,
   "id": "c52a8bfb",
   "metadata": {},
   "outputs": [
    {
     "ename": "AttributeError",
     "evalue": "'numpy.ndarray' object has no attribute 'bar'",
     "output_type": "error",
     "traceback": [
      "\u001b[1;31m---------------------------------------------------------------------------\u001b[0m",
      "\u001b[1;31mAttributeError\u001b[0m                            Traceback (most recent call last)",
      "\u001b[1;32m~\\AppData\\Local\\Temp\\ipykernel_11276\\1059486381.py\u001b[0m in \u001b[0;36m<module>\u001b[1;34m\u001b[0m\n\u001b[0;32m      1\u001b[0m \u001b[0mfig\u001b[0m\u001b[1;33m,\u001b[0m \u001b[0max\u001b[0m \u001b[1;33m=\u001b[0m \u001b[0mplt\u001b[0m\u001b[1;33m.\u001b[0m\u001b[0msubplots\u001b[0m\u001b[1;33m(\u001b[0m\u001b[0mncols\u001b[0m\u001b[1;33m=\u001b[0m\u001b[1;36m2\u001b[0m\u001b[1;33m)\u001b[0m\u001b[1;33m\u001b[0m\u001b[1;33m\u001b[0m\u001b[0m\n\u001b[0;32m      2\u001b[0m \u001b[1;33m\u001b[0m\u001b[0m\n\u001b[1;32m----> 3\u001b[1;33m \u001b[0max\u001b[0m\u001b[1;33m.\u001b[0m\u001b[0mbar\u001b[0m\u001b[1;33m(\u001b[0m\u001b[0mgesture_vals\u001b[0m\u001b[1;33m)\u001b[0m\u001b[1;33m\u001b[0m\u001b[1;33m\u001b[0m\u001b[0m\n\u001b[0m",
      "\u001b[1;31mAttributeError\u001b[0m: 'numpy.ndarray' object has no attribute 'bar'"
     ]
    },
    {
     "data": {
      "image/png": "[encoded data removed]",
      "text/plain": [
       "<Figure size 640x480 with 2 Axes>"
      ]
     },
     "metadata": {},
     "output_type": "display_data"
    }
   ],
   "source": [
    "fig, ax = plt.subplots(ncols=2)\n",
    "\n",
    "ax.bar(gesture_vals)"
   ]
  },
  {
   "cell_type": "code",
   "execution_count": null,
   "id": "c48861a1",
   "metadata": {},
   "outputs": [],
   "source": []
  }
 ],
 "metadata": {
  "kernelspec": {
   "display_name": "Python 3 (ipykernel)",
   "language": "python",
   "name": "python3"
  },
  "language_info": {
   "codemirror_mode": {
    "name": "ipython",
    "version": 3
   },
   "file_extension": ".py",
   "mimetype": "text/x-python",
   "name": "python",
   "nbconvert_exporter": "python",
   "pygments_lexer": "ipython3",
   "version": "3.9.13"
  }
 },
 "nbformat": 4,
 "nbformat_minor": 5
}
