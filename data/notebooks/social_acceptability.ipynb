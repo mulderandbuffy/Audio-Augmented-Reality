{
 "cells": [
  {
   "cell_type": "code",
   "execution_count": 1,
   "metadata": {},
   "outputs": [],
   "source": [
    "from matplotlib import pyplot as plt\n",
    "import seaborn as sns\n",
    "import pandas\n",
    "import numpy as np\n",
    "\n",
    "proc_dir = \"../processed/\""
   ]
  },
  {
   "cell_type": "code",
   "execution_count": 11,
   "metadata": {},
   "outputs": [
    {
     "name": "stdout",
     "output_type": "stream",
     "text": [
      "   headset  walking  public\n",
      "11  frames        4       5\n",
      "12  frames        5       5\n",
      "13  frames        5       4\n",
      "14  frames        1       1\n",
      "15  frames        5       5\n",
      "16  frames        5       5\n",
      "17  frames        3       2\n",
      "18  frames        5       4\n",
      "19  frames        2       1\n",
      "20  frames        5       5\n",
      "21  frames        5       4\n"
     ]
    }
   ],
   "source": [
    "data = pandas.read_csv(proc_dir + \"social_acceptability.csv\")\n",
    "\n",
    "\n",
    "headphone_entries = data[data['headset'] == 'nc700']\n",
    "frame_entries = data[data['headset'] == 'frames']\n",
    "\n",
    "print(frame_entries)\n"
   ]
  }
 ],
 "metadata": {
  "kernelspec": {
   "display_name": "base",
   "language": "python",
   "name": "python3"
  },
  "language_info": {
   "codemirror_mode": {
    "name": "ipython",
    "version": 3
   },
   "file_extension": ".py",
   "mimetype": "text/x-python",
   "name": "python",
   "nbconvert_exporter": "python",
   "pygments_lexer": "ipython3",
   "version": "3.9.13"
  },
  "orig_nbformat": 4,
  "vscode": {
   "interpreter": {
    "hash": "910885e99469a7a67f6171f86483b5378f8f166c16aaa9f2eebe93f5552593ab"
   }
  }
 },
 "nbformat": 4,
 "nbformat_minor": 2
}
